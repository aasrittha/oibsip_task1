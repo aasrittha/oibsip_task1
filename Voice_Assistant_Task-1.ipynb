{
 "cells": [
  {
   "cell_type": "code",
   "execution_count": 1,
   "id": "003ccd55",
   "metadata": {},
   "outputs": [
    {
     "name": "stdout",
     "output_type": "stream",
     "text": [
      "Requirement already satisfied: SpeechRecognition in c:\\users\\aasri\\anaconda3\\lib\\site-packages (3.10.1)\n",
      "Collecting pyttsx3\n",
      "  Downloading pyttsx3-2.90-py3-none-any.whl (39 kB)\n",
      "Requirement already satisfied: typing-extensions in c:\\users\\aasri\\anaconda3\\lib\\site-packages (from SpeechRecognition) (4.8.0)\n",
      "Requirement already satisfied: requests>=2.26.0 in c:\\users\\aasri\\anaconda3\\lib\\site-packages (from SpeechRecognition) (2.28.1)\n",
      "Collecting pypiwin32\n",
      "  Downloading pypiwin32-223-py3-none-any.whl (1.7 kB)\n",
      "Collecting comtypes\n",
      "  Downloading comtypes-1.2.1-py2.py3-none-any.whl (184 kB)\n",
      "     ------------------------------------- 184.9/184.9 kB 10.9 MB/s eta 0:00:00\n",
      "Requirement already satisfied: pywin32 in c:\\users\\aasri\\anaconda3\\lib\\site-packages (from pyttsx3) (305.1)\n",
      "Requirement already satisfied: charset-normalizer<3,>=2 in c:\\users\\aasri\\anaconda3\\lib\\site-packages (from requests>=2.26.0->SpeechRecognition) (2.0.4)\n",
      "Requirement already satisfied: certifi>=2017.4.17 in c:\\users\\aasri\\anaconda3\\lib\\site-packages (from requests>=2.26.0->SpeechRecognition) (2023.11.17)\n",
      "Requirement already satisfied: idna<4,>=2.5 in c:\\users\\aasri\\anaconda3\\lib\\site-packages (from requests>=2.26.0->SpeechRecognition) (3.4)\n",
      "Requirement already satisfied: urllib3<1.27,>=1.21.1 in c:\\users\\aasri\\anaconda3\\lib\\site-packages (from requests>=2.26.0->SpeechRecognition) (1.26.14)\n",
      "Installing collected packages: comtypes, pypiwin32, pyttsx3\n",
      "Successfully installed comtypes-1.2.1 pypiwin32-223 pyttsx3-2.90\n",
      "Note: you may need to restart the kernel to use updated packages.\n"
     ]
    }
   ],
   "source": [
    "pip install SpeechRecognition pyttsx3"
   ]
  },
  {
   "cell_type": "code",
   "execution_count": 3,
   "id": "d695aeb3",
   "metadata": {},
   "outputs": [
    {
     "name": "stdout",
     "output_type": "stream",
     "text": [
      "Listening for commands...\n",
      "You said: what is the time today\n",
      "The current time is 18:13\n"
     ]
    }
   ],
   "source": [
    "import speech_recognition as sr\n",
    "import pyttsx3\n",
    "from datetime import datetime\n",
    "import webbrowser\n",
    "\n",
    "def greet():\n",
    "    return \"Hello! How can I assist you today?\"\n",
    "\n",
    "def get_time():\n",
    "    now = datetime.now()\n",
    "    current_time = now.strftime(\"%H:%M\")\n",
    "    return f\"The current time is {current_time}\"\n",
    "\n",
    "def get_date():\n",
    "    now = datetime.now()\n",
    "    current_date = now.strftime(\"%Y-%m-%d\")\n",
    "    return f\"Today's date is {current_date}\"\n",
    "\n",
    "def search_web(query):\n",
    "    search_url = f\"https://www.google.com/search?q={query}\"\n",
    "    webbrowser.open(search_url)\n",
    "\n",
    "def respond(text):\n",
    "    engine = pyttsx3.init()\n",
    "    engine.say(text)\n",
    "    engine.runAndWait()\n",
    "\n",
    "def main():\n",
    "    recognizer = sr.Recognizer()\n",
    "\n",
    "    with sr.Microphone() as source:\n",
    "        print(\"Listening for commands...\")\n",
    "        recognizer.adjust_for_ambient_noise(source)\n",
    "        audio = recognizer.listen(source)\n",
    "\n",
    "    try:\n",
    "        command = recognizer.recognize_google(audio).lower()\n",
    "        print(\"You said:\", command)\n",
    "\n",
    "        if \"hello\" in command:\n",
    "            response = greet()\n",
    "        elif \"time\" in command:\n",
    "            response = get_time()\n",
    "        elif \"date\" in command:\n",
    "            response = get_date()\n",
    "        elif \"search\" in command:\n",
    "            query = command.replace(\"search\", \"\").strip()\n",
    "            response = f\"Searching the web for {query}...\"\n",
    "            search_web(query)\n",
    "        else:\n",
    "            response = \"Sorry, I didn't understand that command.\"\n",
    "\n",
    "        print(response)\n",
    "        respond(response)\n",
    "\n",
    "    except sr.UnknownValueError:\n",
    "        print(\"Sorry, I couldn't understand the audio.\")\n",
    "    except sr.RequestError as e:\n",
    "        print(f\"Could not request results from Google Speech Recognition service; {e}\")\n",
    "\n",
    "if __name__ == \"__main__\":\n",
    "    main()"
   ]
  },
  {
   "cell_type": "code",
   "execution_count": null,
   "id": "e28e6313",
   "metadata": {},
   "outputs": [],
   "source": []
  }
 ],
 "metadata": {
  "kernelspec": {
   "display_name": "Python 3 (ipykernel)",
   "language": "python",
   "name": "python3"
  },
  "language_info": {
   "codemirror_mode": {
    "name": "ipython",
    "version": 3
   },
   "file_extension": ".py",
   "mimetype": "text/x-python",
   "name": "python",
   "nbconvert_exporter": "python",
   "pygments_lexer": "ipython3",
   "version": "3.10.9"
  }
 },
 "nbformat": 4,
 "nbformat_minor": 5
}
